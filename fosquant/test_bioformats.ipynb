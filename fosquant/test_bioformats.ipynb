{
 "cells": [
  {
   "cell_type": "code",
   "execution_count": 1,
   "id": "8014c37a",
   "metadata": {},
   "outputs": [],
   "source": [
    "# %%\n",
    "import os\n",
    "\n",
    "import PIL as pil\n",
    "from PIL import Image\n",
    "import matplotlib.pyplot as plt\n",
    "from skimage.io import imread, imsave\n",
    "from skimage.util import img_as_uint\n",
    "from skimage import exposure\n",
    "\n",
    "import numpy as np\n",
    "import javabridge\n",
    "import bioformats as bf\n",
    "\n",
    "\n",
    "myloglevel=\"ERROR\"  # user string argument for logLevel.\n",
    "\n",
    "javabridge.start_vm(class_path=bf.JARS)\n",
    "\n",
    "rootLoggerName = javabridge.get_static_field(\"org/slf4j/Logger\",\"ROOT_LOGGER_NAME\", \"Ljava/lang/String;\")\n",
    "rootLogger = javabridge.static_call(\"org/slf4j/LoggerFactory\",\"getLogger\", \"(Ljava/lang/String;)Lorg/slf4j/Logger;\", rootLoggerName)\n",
    "logLevel = javabridge.get_static_field(\"ch/qos/logback/classic/Level\",myloglevel, \"Lch/qos/logback/classic/Level;\")\n",
    "javabridge.call(rootLogger, \"setLevel\", \"(Lch/qos/logback/classic/Level;)V\", logLevel)\n"
   ]
  },
  {
   "cell_type": "code",
   "execution_count": 2,
   "id": "7bb70c37",
   "metadata": {},
   "outputs": [],
   "source": [
    "\n",
    "folder = \"/mnt/d/TestData/fostrap/FTIG/FT108/rawdata/\"\n",
    "#folder = \"D:\\\\TestData\\\\fostrap\\\\FTIG\\\\FT108\\\\rawdata\\\\\"\n",
    "\n",
    "path = os.path.join(folder, \"FT108_1A.vsi\")\n",
    "\n",
    "roipath = os.path.join(folder, \"FT108_1A_ROIs.zip\")\n",
    "# path = \"/mnt/c/Github/fosquant/fosquant/result.tif\"\n"
   ]
  },
  {
   "cell_type": "code",
   "execution_count": 3,
   "id": "6a29273c",
   "metadata": {},
   "outputs": [
    {
     "data": {
      "text/plain": [
       "'/mnt/d/TestData/fostrap/FTIG/FT108/rawdata/FT108_1A_ROIs.zip'"
      ]
     },
     "execution_count": 3,
     "metadata": {},
     "output_type": "execute_result"
    }
   ],
   "source": [
    "roipath"
   ]
  },
  {
   "cell_type": "code",
   "execution_count": 4,
   "id": "a15a2dc2",
   "metadata": {},
   "outputs": [],
   "source": [
    "# %%\n",
    "reader = bf.ImageReader(path)\n",
    "# omeMeta = bf.metadatatools.createOMEXMLMetadata()\n",
    "\n"
   ]
  },
  {
   "cell_type": "code",
   "execution_count": 5,
   "id": "d8671db0",
   "metadata": {},
   "outputs": [],
   "source": [
    "# reader.rdr.setId(path)\n",
    "# reader.rdr.setSeries(13)\n",
    "\n",
    "# im = reader.read(c=1, series=11, XYWH=(0,0,1000,1000))\n",
    "\n",
    "planes = []\n",
    "for z in range(3):\n",
    "    im = reader.read(c=2, z=z, series=11)\n",
    "    planes.append(im)\n",
    "\n",
    "img = np.dstack(planes)\n",
    "    \n",
    "img = img_as_uint(img)"
   ]
  },
  {
   "cell_type": "code",
   "execution_count": 6,
   "id": "b42f23d6",
   "metadata": {},
   "outputs": [
    {
     "name": "stdout",
     "output_type": "stream",
     "text": [
      "(1811, 4644, 3) 0.21828032 0.0\n"
     ]
    },
    {
     "name": "stderr",
     "output_type": "stream",
     "text": [
      "/tmp/ipykernel_609/602398469.py:2: UserWarning: result.png is a low contrast image\n",
      "  imsave(\"result.png\", img[:,:,1])\n"
     ]
    }
   ],
   "source": [
    "print(np.shape(img), np.max(im), np.min(im))\n",
    "imsave(\"result.png\", img[:,:,1])"
   ]
  },
  {
   "cell_type": "code",
   "execution_count": 25,
   "id": "4b12559f",
   "metadata": {},
   "outputs": [
    {
     "data": {
      "text/plain": [
       "(7242, 18574)"
      ]
     },
     "execution_count": 25,
     "metadata": {},
     "output_type": "execute_result"
    }
   ],
   "source": [
    "im = reader.read(c=2, z=z, series=9)\n",
    "np.shape(im)"
   ]
  },
  {
   "cell_type": "code",
   "execution_count": 38,
   "id": "b273bee3",
   "metadata": {},
   "outputs": [],
   "source": [
    "\n",
    "from read_roi import read_roi_zip\n",
    "\n",
    "roidata = read_roi_zip(os.path.join(folder, roipath))\n"
   ]
  },
  {
   "cell_type": "code",
   "execution_count": 57,
   "id": "bebeab92",
   "metadata": {},
   "outputs": [
    {
     "name": "stderr",
     "output_type": "stream",
     "text": [
      "/tmp/ipykernel_500/2256921813.py:8: UserWarning: result.png is a low contrast image\n",
      "  imsave(\"result.png\", im)\n"
     ]
    }
   ],
   "source": [
    "for item in roidata:\n",
    "    section = roidata[item]\n",
    "    x, y, w, h = section[\"left\"], section[\"top\"], section[\"width\"], section[\"height\"]\n",
    "    \n",
    "im = reader.read(c=1, z=1, series=series_hires, XYWH=scaled)\n",
    "\n",
    "im = img_as_uint(im)\n",
    "imsave(\"result.png\", im)\n"
   ]
  },
  {
   "cell_type": "code",
   "execution_count": 56,
   "id": "ba3aa5fc",
   "metadata": {},
   "outputs": [
    {
     "data": {
      "text/plain": [
       "(512, 272, 7568, 4768)"
      ]
     },
     "execution_count": 56,
     "metadata": {},
     "output_type": "execute_result"
    }
   ],
   "source": [
    "series_lowres = 12\n",
    "series_hires = 8\n",
    "scale_factor = (series_hires - series_lowres)**2\n",
    "scaled = tuple([dim*scale_factor for dim in (x,y,w,h)])\n",
    "scaled"
   ]
  },
  {
   "cell_type": "code",
   "execution_count": null,
   "id": "c5f43689",
   "metadata": {},
   "outputs": [],
   "source": []
  },
  {
   "cell_type": "code",
   "execution_count": 14,
   "id": "0c274c3c",
   "metadata": {},
   "outputs": [],
   "source": [
    "seriesIndex = 10\n",
    "planeIndex = 2\n",
    "\n",
    "myXML = bf.get_omexml_metadata(path)\n",
    "o = bf.OMEXML(myXML)\n",
    "posX = o.image(seriesIndex).Pixels.plane(planeIndex).get_PositionX()\n",
    "posXUnit = o.image(seriesIndex).Pixels.plane(planeIndex).get_PositionXUnit()\n",
    "posY = o.image(seriesIndex).Pixels.plane(planeIndex).get_PositionY()\n",
    "posYUnit = o.image(seriesIndex).Pixels.plane(planeIndex).get_PositionYUnit()"
   ]
  },
  {
   "cell_type": "code",
   "execution_count": 43,
   "id": "b0a501d3",
   "metadata": {},
   "outputs": [
    {
     "name": "stdout",
     "output_type": "stream",
     "text": [
      "None\n"
     ]
    }
   ],
   "source": [
    "print(posX)"
   ]
  },
  {
   "cell_type": "code",
   "execution_count": 29,
   "id": "52eb3567",
   "metadata": {},
   "outputs": [
    {
     "name": "stdout",
     "output_type": "stream",
     "text": [
      "hi\n"
     ]
    }
   ],
   "source": [
    "print(\"hi\")"
   ]
  },
  {
   "cell_type": "code",
   "execution_count": null,
   "id": "a5ad2380",
   "metadata": {},
   "outputs": [],
   "source": []
  }
 ],
 "metadata": {
  "kernelspec": {
   "display_name": "Python 3 (ipykernel)",
   "language": "python",
   "name": "python3"
  },
  "language_info": {
   "codemirror_mode": {
    "name": "ipython",
    "version": 3
   },
   "file_extension": ".py",
   "mimetype": "text/x-python",
   "name": "python",
   "nbconvert_exporter": "python",
   "pygments_lexer": "ipython3",
   "version": "3.8.16"
  }
 },
 "nbformat": 4,
 "nbformat_minor": 5
}
