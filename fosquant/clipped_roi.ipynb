{
 "cells": [
  {
   "cell_type": "code",
   "execution_count": 49,
   "metadata": {},
   "outputs": [],
   "source": [
    "from pathlib import Path\n",
    "import numpy as np\n",
    "import matplotlib.pyplot as plt\n",
    "from skimage.io import imread, imshow\n",
    "from skimage.draw import polygon2mask\n",
    "from skimage.measure import find_contours\n",
    "\n",
    "import stackview\n",
    "\n",
    "from read_roi import read_roi_zip\n",
    "\n",
    "import helper_fx as fx"
   ]
  },
  {
   "cell_type": "code",
   "execution_count": 15,
   "metadata": {},
   "outputs": [],
   "source": [
    "FOLDER = Path(\"C:/Users/jmc010/Data/fostrap/FT112\")\n"
   ]
  },
  {
   "cell_type": "code",
   "execution_count": 7,
   "metadata": {},
   "outputs": [],
   "source": [
    "def get_sections(folder):\n",
    "    \n",
    "    contents = os.listdir(folder / \"hires\" / \"chan1\")\n",
    "    \n",
    "    sections = [f.split(\"_\")[2] for f in contents if f.endswith(\"masks.png\")]\n",
    "    return sections\n",
    "\n",
    "def parse_roi_name(roiname):\n",
    "    \n",
    "    section = roiname.split(\"_\")[0]\n",
    "    region = \"\".join(roiname.split(\"_\")[1:]).split(\"-\")[0]\n",
    "    \n",
    "    return section, region\n",
    "\n",
    "def get_rois(roidata):\n",
    "    \n",
    "    regions = []\n",
    "    for roi in roidata:\n",
    "        _, region = parse_roi_name(roi)\n",
    "        regions.append(region)\n",
    "        \n",
    "    return list(set(regions))\n",
    "\n",
    "roipath = FOLDER / \"lowres\" / \"{}_userdefined_ROIs_cleaned.zip\".format(FOLDER.name)\n",
    "roidata = read_roi_zip(roipath)\n",
    "rois = get_rois(roidata)"
   ]
  },
  {
   "cell_type": "code",
   "execution_count": 8,
   "metadata": {},
   "outputs": [
    {
     "name": "stdout",
     "output_type": "stream",
     "text": [
      "odict_keys(['s001_caudate_put_0', 's001_naccore_1', 's001_nacshell_2', 's001_piriform_3', 's002_caudate_put_4', 's002_caudate_put_5', 's002_naccore_6', 's002_naccore_7', 's002_nacshell_8', 's002_nacshell_9', 's002_piriform_10', 's002_piriform_11', 's003_caudate_put_12', 's003_caudate_put_13', 's003_piriform_14', 's003_piriform_15', 's004_caudate_put_16', 's004_caudate_put_17', 's004_insula_18', 's004_insula_19', 's004_motorctx_20', 's004_motorctx_21', 's005_caudate_put_22', 's005_caudate_put_23', 's007_pv_hypo_24', 's007_pv_hypo_25', 's007_pv_thal_26', 's007_pv_thal_27', 's008_pv_hypo_28', 's008_pv_hypo_29', 's008_pv_thal_30', 's008_pv_thal_31', 's009_pv_hypo_32', 's009_pv_hypo_33', 's009_pv_thal_34', 's009_pv_thal_35', 's010_lat_hypo_36', 's010_lat_hypo_37', 's010_pv_hypo_38', 's010_pv_hypo_39', 's010_pv_thal_40', 's010_pv_thal_41', 's010_sensoryctx_42', 's010_sensoryctx_43', 's011_lat_hypo_44', 's011_lat_hypo_45', 's011_pv_hypo_46', 's011_pv_thal_47', 's011_pv_thal_48', 's011_pv_thal_49', 's012_lat_hypo_50', 's012_lat_hypo_51', 's012_pv_thal_52', 's012_pv_thal_53', 's013_arcuate_54', 's013_arcuate_55', 's013_lat_hypo_56', 's013_lat_hypo_57', 's013_pv_thal_58', 's013_pv_thal_59', 's014_arcuate_60', 's014_arcuate_61'])\n"
     ]
    }
   ],
   "source": [
    "print(roidata.keys())"
   ]
  },
  {
   "cell_type": "code",
   "execution_count": 9,
   "metadata": {},
   "outputs": [],
   "source": [
    "def get_roi_coords(roi, scale_factor):\n",
    "\n",
    "    if roi[\"type\"] == \"polygon\":\n",
    "        y = [i*scale_factor for i in roi[\"x\"]]\n",
    "        x = [i*scale_factor for i in roi[\"y\"]]\n",
    "        xy = [(x,y) for x,y in zip(x,y)]\n",
    "\n",
    "    elif roi[\"type\"] == \"rectangle\":\n",
    "        \n",
    "        y1, y2 = [i*scale_factor for i in (roi[\"left\"], roi[\"left\"]+roi[\"width\"])]\n",
    "        x1, x2 = [i*scale_factor for i in (roi[\"top\"], roi[\"top\"]+roi[\"height\"])]\n",
    "\n",
    "        xy = [(x1,y1), (x2,y1), (x2,y2), (x1,y2)]\n",
    "    \n",
    "    return xy"
   ]
  },
  {
   "cell_type": "code",
   "execution_count": 10,
   "metadata": {},
   "outputs": [],
   "source": [
    "roi = roidata[\"s001_piriform_3\"]\n",
    "xy = get_roi_coords(roi, 4)"
   ]
  },
  {
   "cell_type": "code",
   "execution_count": 11,
   "metadata": {},
   "outputs": [
    {
     "name": "stderr",
     "output_type": "stream",
     "text": [
      "c:\\Users\\jmc010\\AppData\\Local\\miniconda3\\envs\\fosquant\\Lib\\site-packages\\imageio\\plugins\\pillow.py:297: UserWarning: Loading 16-bit (uint16) PNG as int32 due to limitations in pillow's PNG decoder. This will be fixed in a future version of pillow which will make this warning dissapear.\n",
      "  warnings.warn(\n"
     ]
    }
   ],
   "source": [
    "im = imread(FOLDER / \"hires\" / \"chan1\" / \"FT112_1A_s001.png\")\n",
    "im_mask = imread(FOLDER / \"hires\" / \"chan1\" / \"FT112_1A_s001_cp_masks.png\")"
   ]
  },
  {
   "cell_type": "code",
   "execution_count": 12,
   "metadata": {},
   "outputs": [],
   "source": [
    "def get_mean_rois_vect(im, im_rois):\n",
    "    # Create a mask for pixels that belong to ROIs (excluding background label 0)\n",
    "    roi_mask = im_rois > 0\n",
    "\n",
    "    # Calculate the unique labels for the ROIs\n",
    "    unique_labels = np.unique(im_rois[roi_mask])\n",
    "\n",
    "    # Calculate the mean values for each ROI\n",
    "    roi_means = np.array([np.mean(im[im_rois == label]) for label in unique_labels])\n",
    "\n",
    "    # Create a lookup table to map labels to their corresponding mean values\n",
    "    lookup_table = np.zeros(im_rois.max() + 1, dtype=roi_means.dtype)\n",
    "    lookup_table[unique_labels] = roi_means\n",
    "\n",
    "    # Apply the mean values to the entire image using the lookup table\n",
    "    im_out = lookup_table[im_rois]\n",
    "\n",
    "    # Ensure im_out is of the same data type as im\n",
    "    im_out = im_out.astype(im.dtype)\n",
    "\n",
    "    return im_out, roi_means\n",
    "\n",
    "def make_thresholded_mask(im, im_mask, roi_coords, threshold=0):\n",
    "\n",
    "    mask = polygon2mask(im.shape, roi_coords)\n",
    "    im_mask_roi = im_mask * mask\n",
    "\n",
    "    im_mean, _ = get_mean_rois_vect(im, im_mask_roi)\n",
    "\n",
    "    im_mean_mask = im_mean > threshold\n",
    "\n",
    "    return im_mask * im_mean_mask"
   ]
  },
  {
   "cell_type": "code",
   "execution_count": 78,
   "metadata": {},
   "outputs": [],
   "source": [
    "im_mean = make_thresholded_mask(im, im_mask, xy, threshold=0)"
   ]
  },
  {
   "cell_type": "code",
   "execution_count": 79,
   "metadata": {},
   "outputs": [
    {
     "name": "stdout",
     "output_type": "stream",
     "text": [
      "The number of neurons is 19\n",
      "The number of neurons is 19\n"
     ]
    },
    {
     "data": {
      "text/plain": [
       "(19,\n",
       " array([[0, 0, 0, ..., 0, 0, 0],\n",
       "        [0, 0, 0, ..., 0, 0, 0],\n",
       "        [0, 0, 0, ..., 0, 0, 0],\n",
       "        ...,\n",
       "        [0, 0, 0, ..., 0, 0, 0],\n",
       "        [0, 0, 0, ..., 0, 0, 0],\n",
       "        [0, 0, 0, ..., 0, 0, 0]]))"
      ]
     },
     "execution_count": 79,
     "metadata": {},
     "output_type": "execute_result"
    }
   ],
   "source": [
    "def count_neurons(im, roi_coords, verbose=False):\n",
    "\n",
    "    mask = polygon2mask(im.shape, roi_coords)\n",
    "    masked_image = im * mask\n",
    "    \n",
    "    ncells = len(np.unique(masked_image)) - 1\n",
    "\n",
    "    if verbose: print(\"The number of neurons is\", ncells)\n",
    "    \n",
    "    return ncells, masked_image\n",
    "\n",
    "count_neurons(im_mask, xy, verbose=True)\n",
    "count_neurons(im_mean, xy, verbose=True)"
   ]
  },
  {
   "cell_type": "code",
   "execution_count": 80,
   "metadata": {},
   "outputs": [],
   "source": [
    "def normalize_image(image):\n",
    "    \n",
    "    normed_im = image/np.max(image) * 255\n",
    "    \n",
    "    return np.clip(normed_im, 0, 255)\n",
    "\n",
    "scale_factor = 4\n",
    "roi_min_x, roi_max_x = np.min(roi[\"x\"])*scale_factor, np.max(roi[\"x\"])*scale_factor\n",
    "roi_min_y, roi_max_y = np.min(roi[\"y\"])*scale_factor, np.max(roi[\"y\"])*scale_factor\n",
    "\n",
    "im1 = im[roi_min_y:roi_max_y, roi_min_x:roi_max_x]\n",
    "im2 = im_mean[roi_min_y:roi_max_y, roi_min_x:roi_max_x]"
   ]
  },
  {
   "cell_type": "code",
   "execution_count": 82,
   "metadata": {},
   "outputs": [
    {
     "data": {
      "application/vnd.jupyter.widget-view+json": {
       "model_id": "1295f4f2d3784760b25361cf7235a3cc",
       "version_major": 2,
       "version_minor": 0
      },
      "text/plain": [
       "VBox(children=(HBox(children=(VBox(children=(ImageWidget(height=504, width=728),)),)), IntSlider(value=252, de…"
      ]
     },
     "execution_count": 82,
     "metadata": {},
     "output_type": "execute_result"
    }
   ],
   "source": [
    "stackview.curtain(normalize_image(im1), im2, continuous_update=True, zoom_factor=1, alpha=0.9)"
   ]
  },
  {
   "cell_type": "code",
   "execution_count": 65,
   "metadata": {},
   "outputs": [],
   "source": [
    "im_mean_all, roi_means = get_mean_rois_vect(im, im_mask)\n"
   ]
  },
  {
   "cell_type": "code",
   "execution_count": 66,
   "metadata": {},
   "outputs": [
    {
     "data": {
      "text/plain": [
       "(array([ 2.,  1.,  1.,  1.,  2.,  1.,  5.,  4.,  3.,  5.,  6.,  5.,  7.,\n",
       "         3.,  5., 11.,  6.,  5., 11., 16., 16., 13., 18., 17., 31., 29.,\n",
       "        20., 19., 29., 25., 15., 21., 20., 39., 23., 28., 20., 20., 27.,\n",
       "        22., 34., 26., 31., 25., 20., 27., 26., 27., 13., 12., 20., 12.,\n",
       "        15., 13., 15., 10.,  7., 10., 12.,  9., 10.,  6.,  7., 11.,  7.,\n",
       "         9.,  9.,  8.,  3.,  7.,  5.,  4.,  2.,  4.,  2.,  6.,  3.,  5.,\n",
       "         3.,  4.,  4.,  2.,  5.,  3.,  0.,  1.,  1.,  0.,  1.,  2.,  1.,\n",
       "         1.,  3.,  1.,  2.,  2.,  0.,  0.,  0.,  1.]),\n",
       " array([ 451.26666667,  458.42102703,  465.57538739,  472.72974775,\n",
       "         479.88410811,  487.03846847,  494.19282883,  501.34718919,\n",
       "         508.50154955,  515.65590991,  522.81027027,  529.96463063,\n",
       "         537.11899099,  544.27335135,  551.42771171,  558.58207207,\n",
       "         565.73643243,  572.89079279,  580.04515315,  587.19951351,\n",
       "         594.35387387,  601.50823423,  608.66259459,  615.81695495,\n",
       "         622.97131532,  630.12567568,  637.28003604,  644.4343964 ,\n",
       "         651.58875676,  658.74311712,  665.89747748,  673.05183784,\n",
       "         680.2061982 ,  687.36055856,  694.51491892,  701.66927928,\n",
       "         708.82363964,  715.978     ,  723.13236036,  730.28672072,\n",
       "         737.44108108,  744.59544144,  751.7498018 ,  758.90416216,\n",
       "         766.05852252,  773.21288288,  780.36724324,  787.5216036 ,\n",
       "         794.67596396,  801.83032432,  808.98468468,  816.13904505,\n",
       "         823.29340541,  830.44776577,  837.60212613,  844.75648649,\n",
       "         851.91084685,  859.06520721,  866.21956757,  873.37392793,\n",
       "         880.52828829,  887.68264865,  894.83700901,  901.99136937,\n",
       "         909.14572973,  916.30009009,  923.45445045,  930.60881081,\n",
       "         937.76317117,  944.91753153,  952.07189189,  959.22625225,\n",
       "         966.38061261,  973.53497297,  980.68933333,  987.84369369,\n",
       "         994.99805405, 1002.15241441, 1009.30677477, 1016.46113514,\n",
       "        1023.6154955 , 1030.76985586, 1037.92421622, 1045.07857658,\n",
       "        1052.23293694, 1059.3872973 , 1066.54165766, 1073.69601802,\n",
       "        1080.85037838, 1088.00473874, 1095.1590991 , 1102.31345946,\n",
       "        1109.46781982, 1116.62218018, 1123.77654054, 1130.9309009 ,\n",
       "        1138.08526126, 1145.23962162, 1152.39398198, 1159.54834234,\n",
       "        1166.7027027 ]),\n",
       " <BarContainer object of 100 artists>)"
      ]
     },
     "execution_count": 66,
     "metadata": {},
     "output_type": "execute_result"
    },
    {
     "data": {
      "image/png": "[encoded data removed]",
      "text/plain": [
       "<Figure size 640x480 with 1 Axes>"
      ]
     },
     "metadata": {},
     "output_type": "display_data"
    }
   ],
   "source": [
    "plt.hist(roi_means, bins=100)"
   ]
  },
  {
   "cell_type": "code",
   "execution_count": 58,
   "metadata": {},
   "outputs": [
    {
     "data": {
      "text/plain": [
       "array([ 632.128     ,  711.08322981,  790.55555556,  908.91428571,\n",
       "       1067.64516129, 1245.72333333, 1557.96847771])"
      ]
     },
     "execution_count": 58,
     "metadata": {},
     "output_type": "execute_result"
    }
   ],
   "source": [
    "np.percentile(roi_means, [1,10,25,50,75,90,99])"
   ]
  },
  {
   "cell_type": "code",
   "execution_count": 13,
   "metadata": {},
   "outputs": [],
   "source": [
    "def count_neurons(im, roi_coords, verbose=False):\n",
    "\n",
    "    mask = polygon2mask(im.shape, roi_coords)\n",
    "    masked_image = im * mask\n",
    "    \n",
    "    ncells = len(np.unique(masked_image)) - 1\n",
    "\n",
    "    if verbose: print(\"The number of neurons is\", ncells)\n",
    "    \n",
    "    return ncells, masked_image"
   ]
  },
  {
   "cell_type": "code",
   "execution_count": 58,
   "metadata": {},
   "outputs": [
    {
     "name": "stdout",
     "output_type": "stream",
     "text": [
      "[2808, 2608, 2664, 2704, 2708, 2712, 2752, 2792, 2852, 3112, 3044, 2996, 2888]\n",
      "2608 3112\n",
      "972 1700\n",
      "[200, 0, 56, 96, 100, 104, 144, 184, 244, 504, 436, 388, 280]\n",
      "The number of neurons is 25\n",
      "The number of neurons is 13\n",
      "13 should match 25\n",
      "(728, 504)\n"
     ]
    }
   ],
   "source": [
    "\n",
    "def get_roi_coords(roi, scale_factor):\n",
    "\n",
    "    if roi[\"type\"] == \"polygon\":\n",
    "        y = [i*scale_factor for i in roi[\"x\"]]\n",
    "        x = [i*scale_factor for i in roi[\"y\"]]\n",
    "        xy = [(x,y) for x,y in zip(x,y)]\n",
    "\n",
    "    elif roi[\"type\"] == \"rectangle\":\n",
    "        \n",
    "        y1, y2 = [i*scale_factor for i in (roi[\"left\"], roi[\"left\"]+roi[\"width\"])]\n",
    "        x1, x2 = [i*scale_factor for i in (roi[\"top\"], roi[\"top\"]+roi[\"height\"])]\n",
    "\n",
    "        xy = [(x1,y1), (x2,y1), (x2,y2), (x1,y2)]\n",
    "    \n",
    "    return xy\n",
    "\n",
    "def get_clipped_im(im, xy):\n",
    "\n",
    "    x = [x for x, y in xy]\n",
    "    y = [y for x, y in xy]\n",
    "\n",
    "    roi_min_x, roi_max_x = np.min(x), np.max(x)\n",
    "    roi_min_y, roi_max_y = np.min(y), np.max(y)\n",
    "\n",
    "    im_out = im[roi_min_y:roi_max_y, roi_min_x:roi_max_x]\n",
    "\n",
    "    x_rescaled = [x - roi_min_x for x in x]\n",
    "    y_rescaled = [y - roi_min_y for y in y]\n",
    "\n",
    "    xy_rescaled = [(x,y) for x,y in zip(x_rescaled, y_rescaled)]\n",
    "\n",
    "    print(x)\n",
    "    print(roi_min_x, roi_max_x)\n",
    "    print(roi_min_y, roi_max_y)\n",
    "    print(x_rescaled)\n",
    "\n",
    "    return im_out, xy_rescaled\n",
    "\n",
    "roipath = FOLDER / \"lowres\" / \"{}_userdefined_ROIs_cleaned.zip\".format(FOLDER.name)\n",
    "roidata = read_roi_zip(roipath)\n",
    "roi = \"s001_piriform_3\"\n",
    "\n",
    "im_trap = imread(FOLDER / \"hires\" / \"chan2\" / \"FT112_1A_s001_cp_masks.png\")\n",
    "\n",
    "scale_factor = 4\n",
    "xy = get_roi_coords(roidata[roi], 4)\n",
    "im_trap_rescaled, xy_rescaled = get_clipped_im(im_trap, xy)\n",
    "\n",
    "verbose=True\n",
    "ntrap_old, _ = count_neurons(im_trap, xy, verbose=verbose)\n",
    "ntrap, masked_trap = count_neurons(im_trap_rescaled, xy_rescaled, verbose=verbose)\n",
    "\n",
    "print(ntrap, \"should match\", ntrap_old)\n",
    "\n",
    "print(im_trap_rescaled.shape)\n"
   ]
  },
  {
   "cell_type": "code",
   "execution_count": 59,
   "metadata": {},
   "outputs": [
    {
     "data": {
      "text/plain": [
       "[<matplotlib.lines.Line2D at 0x1cf91f5b290>]"
      ]
     },
     "execution_count": 59,
     "metadata": {},
     "output_type": "execute_result"
    },
    {
     "data": {
      "image/png": "[encoded data removed]",
      "text/plain": [
       "<Figure size 640x480 with 1 Axes>"
      ]
     },
     "metadata": {},
     "output_type": "display_data"
    }
   ],
   "source": [
    "f, ax = plt.subplots()\n",
    "ax.imshow(fx.normalize_image(im_trap_rescaled))\n",
    "x = [x for x, y in xy_rescaled]\n",
    "y = [y for x, y in xy_rescaled]\n",
    "ax.plot(x, y, color=\"red\")"
   ]
  },
  {
   "cell_type": "code",
   "execution_count": 60,
   "metadata": {},
   "outputs": [
    {
     "data": {
      "text/plain": [
       "[<matplotlib.lines.Line2D at 0x1cf920653d0>]"
      ]
     },
     "execution_count": 60,
     "metadata": {},
     "output_type": "execute_result"
    },
    {
     "data": {
      "image/png": "[encoded data removed]",
      "text/plain": [
       "<Figure size 640x480 with 1 Axes>"
      ]
     },
     "metadata": {},
     "output_type": "display_data"
    }
   ],
   "source": [
    "%matplotlib inline\n",
    "\n",
    "f, ax = plt.subplots()\n",
    "ax.imshow(im_trap)\n",
    "x = [x for x, y in xy]\n",
    "y = [y for x, y in xy]\n",
    "ax.plot(x, y, color=\"red\")"
   ]
  },
  {
   "cell_type": "code",
   "execution_count": null,
   "metadata": {},
   "outputs": [],
   "source": []
  }
 ],
 "metadata": {
  "kernelspec": {
   "display_name": "fosquant",
   "language": "python",
   "name": "python3"
  },
  "language_info": {
   "codemirror_mode": {
    "name": "ipython",
    "version": 3
   },
   "file_extension": ".py",
   "mimetype": "text/x-python",
   "name": "python",
   "nbconvert_exporter": "python",
   "pygments_lexer": "ipython3",
   "version": "3.11.4"
  },
  "orig_nbformat": 4
 },
 "nbformat": 4,
 "nbformat_minor": 2
}
