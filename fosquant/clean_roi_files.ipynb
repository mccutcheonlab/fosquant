{
 "cells": [
  {
   "cell_type": "code",
   "execution_count": 78,
   "id": "4b9b7fd6",
   "metadata": {},
   "outputs": [],
   "source": [
    "from pathlib import Path\n",
    "import shutil\n",
    "import os\n",
    "from itertools import compress\n",
    "import pandas as pd\n",
    "import roifile as rf"
   ]
  },
  {
   "cell_type": "code",
   "execution_count": 79,
   "id": "2353796e",
   "metadata": {},
   "outputs": [],
   "source": [
    "FOLDER=Path(\"C:/Users/jmc010/Data/fostrap/FT112\")"
   ]
  },
  {
   "cell_type": "code",
   "execution_count": 80,
   "id": "825eb7c0",
   "metadata": {},
   "outputs": [],
   "source": [
    "roipath = FOLDER / \"lowres\" / \"{}_userdefined_ROIs.zip\".format(FOLDER.name)\n",
    "rois = rf.ImagejRoi.fromfile(roipath)"
   ]
  },
  {
   "cell_type": "code",
   "execution_count": 82,
   "id": "e3a02d55",
   "metadata": {},
   "outputs": [],
   "source": [
    "df = pd.DataFrame.from_dict(rois)\n",
    "dups = ~df.duplicated(subset=[\"top\", \"left\"])\n",
    "\n",
    "rois_red = list(compress(rois, dups.tolist()))"
   ]
  },
  {
   "cell_type": "code",
   "execution_count": 84,
   "id": "43cc3c05",
   "metadata": {},
   "outputs": [],
   "source": [
    "temp_roi_folder = FOLDER / \"temp_roi\"\n",
    "if not os.path.exists(temp_roi_folder):\n",
    "    os.mkdir(temp_roi_folder)\n",
    "for idx, roi in enumerate(rois_red):\n",
    "    roi.name = \"{}_{}\".format(roi.name, idx)\n",
    "    roi.tofile(temp_roi_folder / \"{}.roi\".format(roi.name))"
   ]
  },
  {
   "cell_type": "code",
   "execution_count": 91,
   "id": "c30a55cb",
   "metadata": {},
   "outputs": [],
   "source": [
    "shutil.rmtree(temp_roi_folder)"
   ]
  },
  {
   "cell_type": "code",
   "execution_count": 89,
   "id": "bf8b04d7",
   "metadata": {},
   "outputs": [
    {
     "data": {
      "text/plain": [
       "'C:\\\\Users\\\\jmc010\\\\Data\\\\fostrap\\\\FT112\\\\FT112_userdefined_ROIs_cleaned.zip'"
      ]
     },
     "execution_count": 89,
     "metadata": {},
     "output_type": "execute_result"
    }
   ],
   "source": [
    "shutil.make_archive(FOLDER / \"{}_userdefined_ROIs_cleaned\".format(FOLDER.name), \"zip\", temp_roi_folder)"
   ]
  },
  {
   "cell_type": "code",
   "execution_count": 86,
   "id": "dc9a3491",
   "metadata": {},
   "outputs": [],
   "source": [
    "rois2 = rf.ImagejRoi.fromfile(FOLDER / 'archive_zipfile.zip')"
   ]
  },
  {
   "cell_type": "code",
   "execution_count": 87,
   "id": "28b94ba0",
   "metadata": {},
   "outputs": [
    {
     "data": {
      "text/plain": [
       "'s001_caudate_put_0'"
      ]
     },
     "execution_count": 87,
     "metadata": {},
     "output_type": "execute_result"
    }
   ],
   "source": [
    "rois2[0].name"
   ]
  },
  {
   "cell_type": "code",
   "execution_count": 88,
   "id": "5273a689",
   "metadata": {},
   "outputs": [
    {
     "data": {
      "text/plain": [
       "62"
      ]
     },
     "execution_count": 88,
     "metadata": {},
     "output_type": "execute_result"
    }
   ],
   "source": [
    "len(rois2)"
   ]
  },
  {
   "cell_type": "markdown",
   "id": "81ade80c",
   "metadata": {},
   "source": [
    "next steps are\n",
    "make this into .py function / script that will run through all FT foldersand save cleaned roi file\n",
    "then make notebook/ script to generate lowres images with roi overlays and save in single PDF for scanning through\n",
    "the figure out a way to manually flip and correct necessary ROIs\n",
    "also figure out how to run cellpose on limited number of animals - cellpose_threaded??"
   ]
  }
 ],
 "metadata": {
  "kernelspec": {
   "display_name": "Python 3 (ipykernel)",
   "language": "python",
   "name": "python3"
  },
  "language_info": {
   "codemirror_mode": {
    "name": "ipython",
    "version": 3
   },
   "file_extension": ".py",
   "mimetype": "text/x-python",
   "name": "python",
   "nbconvert_exporter": "python",
   "pygments_lexer": "ipython3",
   "version": "3.11.4"
  }
 },
 "nbformat": 4,
 "nbformat_minor": 5
}
