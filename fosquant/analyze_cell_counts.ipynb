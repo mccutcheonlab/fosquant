{
 "cells": [
  {
   "cell_type": "code",
   "execution_count": 1,
   "id": "9ca3faad",
   "metadata": {},
   "outputs": [],
   "source": [
    "import os\n",
    "import numpy as np\n",
    "import pandas as pd\n",
    "\n",
    "folder = \"/mnt/d/TestData/fostrap/FTIG\""
   ]
  },
  {
   "cell_type": "code",
   "execution_count": 3,
   "id": "342b6df9",
   "metadata": {},
   "outputs": [],
   "source": [
    "df = pd.read_csv(os.path.join(folder, \"results\", \"df_user_counts.csv\"))\n",
    "df[\"animal\"].fillna(\"FT164\", inplace=True)\n",
    "df.drop(['Unnamed: 0.1', 'Unnamed: 0'], axis=1, inplace=True)\n",
    "animals_to_check = df[df.duplicated()][\"animal\"].unique()\n",
    "df = df[~df.duplicated()]"
   ]
  },
  {
   "cell_type": "code",
   "execution_count": 4,
   "id": "6d447e8e",
   "metadata": {},
   "outputs": [],
   "source": [
    "df_meta = pd.read_csv(os.path.join(folder, \"results\", \"metafile_ftig.csv\"))\n",
    "df_meta.drop(['folder', 'slide1A', 'slide1B', 'slide1C'], axis=1, inplace=True)\n",
    "df_meta.set_index(\"animal\", inplace=True)"
   ]
  },
  {
   "cell_type": "code",
   "execution_count": 5,
   "id": "50c3ecf1",
   "metadata": {},
   "outputs": [],
   "source": [
    "df = df.join(df_meta, on=\"animal\")"
   ]
  },
  {
   "cell_type": "code",
   "execution_count": 6,
   "id": "700a15de",
   "metadata": {},
   "outputs": [],
   "source": [
    "df[\"density_fos\"] = df[\"nfos\"] / df[\"area\"] * 100000\n",
    "df[\"density_trap\"] = df[\"ntrap\"] / df[\"area\"] * 100000\n",
    "df[\"density_coloc\"] = df[\"ncoloc\"] / df[\"area\"] * 100000\n",
    "\n",
    "df[\"pc_fos_coloc\"] = df[\"ncoloc\"] / df[\"nfos\"] * 100\n",
    "df[\"pc_trap_coloc\"] = df[\"ncoloc\"] / df[\"ntrap\"] * 100"
   ]
  },
  {
   "cell_type": "code",
   "execution_count": 7,
   "id": "57c60261",
   "metadata": {},
   "outputs": [],
   "source": [
    "df.replace({\"malt \": \"malt\"}, inplace=True)"
   ]
  },
  {
   "cell_type": "code",
   "execution_count": 8,
   "id": "f8b2943e",
   "metadata": {},
   "outputs": [
    {
     "data": {
      "text/plain": [
       "array(['FT104', 'FT106', 'FT108', 'FT109', 'FT110', 'FT111', 'FT118',\n",
       "       'FT120', 'FT126', 'FT128', 'FT134', 'FT137', 'FT161', 'FT162',\n",
       "       'FT163', 'FT164', 'FT168'], dtype=object)"
      ]
     },
     "execution_count": 8,
     "metadata": {},
     "output_type": "execute_result"
    }
   ],
   "source": [
    "df[\"animal\"].unique()"
   ]
  },
  {
   "cell_type": "code",
   "execution_count": 9,
   "id": "4a74b54d",
   "metadata": {},
   "outputs": [
    {
     "name": "stderr",
     "output_type": "stream",
     "text": [
      "/tmp/ipykernel_167/791883629.py:1: FutureWarning: The default value of numeric_only in DataFrameGroupBy.mean is deprecated. In a future version, numeric_only will default to False. Either specify numeric_only or select only columns which should be valid for the function.\n",
      "  df.groupby(by=[\"region\", \"diet\", \"animal\", \"infusion2\"]).mean().to_csv(os.path.join(folder, \"results\", \"grouped.csv\"))\n"
     ]
    }
   ],
   "source": [
    "df.groupby(by=[\"region\", \"diet\", \"animal\", \"infusion2\"]).mean().to_csv(os.path.join(folder, \"results\", \"grouped.csv\"))"
   ]
  },
  {
   "cell_type": "code",
   "execution_count": null,
   "id": "bdd9f0b8",
   "metadata": {},
   "outputs": [],
   "source": []
  },
  {
   "cell_type": "code",
   "execution_count": 55,
   "id": "988dc653",
   "metadata": {},
   "outputs": [
    {
     "data": {
      "text/plain": [
       "Text(0, 0.5, 'Density of trapped cells')"
      ]
     },
     "execution_count": 55,
     "metadata": {},
     "output_type": "execute_result"
    },
    {
     "data": {
      "image/png": "[encoded data removed]",
      "text/plain": [
       "<Figure size 1300x300 with 8 Axes>"
      ]
     },
     "metadata": {},
     "output_type": "display_data"
    }
   ],
   "source": [
    "import trompy as tp\n",
    "import matplotlib.pyplot as plt\n",
    "\n",
    "regions = df[\"region\"].unique()\n",
    "\n",
    "f, ax = plt.subplots(figsize=(13,3), ncols=len(regions), sharey=True,\n",
    "                    gridspec_kw={\"wspace\": 0.7})\n",
    "\n",
    "for region, axis in zip(regions, ax):\n",
    "    df1 = df.query(\"region == @region\")\n",
    "    df2 = df1.groupby(by=[\"diet\", \"animal\"])[\"density_trap\"].mean()\n",
    "    axis.boxplot((df2[\"NR\"], df2[\"PR\"]), widths=0.8, labels = (\"NR\", \"PR\"))\n",
    "    axis.set_title(region)\n",
    "    \n",
    "ax[0].set_ylabel(\"Density of trapped cells\")\n"
   ]
  },
  {
   "cell_type": "code",
   "execution_count": 56,
   "id": "a1d18995",
   "metadata": {},
   "outputs": [
    {
     "name": "stderr",
     "output_type": "stream",
     "text": [
      "/tmp/ipykernel_167/2473218668.py:1: FutureWarning: The default value of numeric_only in DataFrameGroupBy.mean is deprecated. In a future version, numeric_only will default to False. Either specify numeric_only or select only columns which should be valid for the function.\n",
      "  df.groupby(by=[\"region\", \"infusion2\"]).mean().to_csv(os.path.join(folder, \"results\", \"grouped_mean_byinf.csv\"))\n"
     ]
    }
   ],
   "source": [
    "df.groupby(by=[\"region\", \"infusion2\"]).mean().to_csv(os.path.join(folder, \"results\", \"grouped_mean_byinf.csv\"))"
   ]
  },
  {
   "cell_type": "code",
   "execution_count": 69,
   "id": "d49fea41",
   "metadata": {},
   "outputs": [
    {
     "data": {
      "text/plain": [
       "Text(0, 0.5, 'Percent of trapped cells + Fos')"
      ]
     },
     "execution_count": 69,
     "metadata": {},
     "output_type": "execute_result"
    },
    {
     "data": {
      "image/png": "[encoded data removed]",
      "text/plain": [
       "<Figure size 1300x300 with 8 Axes>"
      ]
     },
     "metadata": {},
     "output_type": "display_data"
    }
   ],
   "source": [
    "f, ax = plt.subplots(figsize=(13,3), ncols=len(regions), sharey=True,\n",
    "                    gridspec_kw={\"wspace\": 0.7})\n",
    "\n",
    "for region, axis in zip(regions, ax):\n",
    "    df1 = df.query(\"region == @region\")\n",
    "    df2 = df1.groupby(by=[\"infusion2\", \"animal\"])[\"pc_trap_coloc\"].mean()\n",
    "    axis.boxplot((df2[\"casein\"], df2[\"malt\"]), widths=0.8, labels = (\"cas\", \"malt\"))\n",
    "    axis.set_title(region)\n",
    "    \n",
    "ax[0].set_ylabel(\"Percent of trapped cells + Fos\")\n",
    "\n"
   ]
  },
  {
   "cell_type": "code",
   "execution_count": 67,
   "id": "a5965afb",
   "metadata": {},
   "outputs": [
    {
     "data": {
      "text/plain": [
       "infusion2  animal\n",
       "casein     FT104     13.888889\n",
       "           FT106     12.111111\n",
       "           FT118      4.305556\n",
       "           FT120      7.407407\n",
       "           FT126      5.795686\n",
       "           FT128     17.699334\n",
       "           FT134      6.483516\n",
       "           FT137     10.096154\n",
       "malt       FT108      1.538462\n",
       "           FT109      8.333333\n",
       "           FT110     28.333333\n",
       "           FT111      6.597222\n",
       "           FT161     14.125550\n",
       "           FT162      7.424603\n",
       "           FT163     16.666667\n",
       "           FT164     11.363636\n",
       "           FT168      4.166667\n",
       "Name: pc_trap_coloc, dtype: float64"
      ]
     },
     "execution_count": 67,
     "metadata": {},
     "output_type": "execute_result"
    }
   ],
   "source": [
    "df2"
   ]
  },
  {
   "cell_type": "code",
   "execution_count": 58,
   "id": "9b9414f7",
   "metadata": {},
   "outputs": [
    {
     "data": {
      "text/plain": [
       "<Axes: >"
      ]
     },
     "execution_count": 58,
     "metadata": {},
     "output_type": "execute_result"
    },
    {
     "data": {
      "image/png": "[encoded data removed]",
      "text/plain": [
       "<Figure size 640x480 with 1 Axes>"
      ]
     },
     "metadata": {},
     "output_type": "display_data"
    }
   ],
   "source": [
    "df2.plot(x=\"diet\", kind=\"box\", use_index=True)"
   ]
  },
  {
   "cell_type": "code",
   "execution_count": 35,
   "id": "52ce2fe6",
   "metadata": {},
   "outputs": [],
   "source": [
    "df2.plot?"
   ]
  },
  {
   "cell_type": "code",
   "execution_count": 40,
   "id": "bcbc1080",
   "metadata": {},
   "outputs": [],
   "source": [
    "plt.boxplot?"
   ]
  },
  {
   "cell_type": "code",
   "execution_count": 42,
   "id": "6b421733",
   "metadata": {
    "scrolled": true
   },
   "outputs": [
    {
     "data": {
      "text/plain": [
       "{'whiskers': [<matplotlib.lines.Line2D at 0x7fb89b2bb8e0>,\n",
       "  <matplotlib.lines.Line2D at 0x7fb89b2bbbb0>,\n",
       "  <matplotlib.lines.Line2D at 0x7fb89b2cebb0>,\n",
       "  <matplotlib.lines.Line2D at 0x7fb89b2cee50>],\n",
       " 'caps': [<matplotlib.lines.Line2D at 0x7fb89b2bbe50>,\n",
       "  <matplotlib.lines.Line2D at 0x7fb89b2ce130>,\n",
       "  <matplotlib.lines.Line2D at 0x7fb89b2db130>,\n",
       "  <matplotlib.lines.Line2D at 0x7fb89b2db400>],\n",
       " 'boxes': [<matplotlib.lines.Line2D at 0x7fb89b2bb790>,\n",
       "  <matplotlib.lines.Line2D at 0x7fb89b2ce910>],\n",
       " 'medians': [<matplotlib.lines.Line2D at 0x7fb89b2ce3d0>,\n",
       "  <matplotlib.lines.Line2D at 0x7fb89b2db6a0>],\n",
       " 'fliers': [<matplotlib.lines.Line2D at 0x7fb89b2ce670>,\n",
       "  <matplotlib.lines.Line2D at 0x7fb89b2db940>],\n",
       " 'means': []}"
      ]
     },
     "execution_count": 42,
     "metadata": {},
     "output_type": "execute_result"
    },
    {
     "data": {
      "image/png": "[encoded data removed]",
      "text/plain": [
       "<Figure size 640x480 with 1 Axes>"
      ]
     },
     "metadata": {},
     "output_type": "display_data"
    }
   ],
   "source": [
    "import matplotlib.pyplot as plt\n",
    "plt.boxplot((df2[\"NR\"], df2[\"PR\"]))"
   ]
  },
  {
   "cell_type": "code",
   "execution_count": 26,
   "id": "88cb730c",
   "metadata": {},
   "outputs": [
    {
     "ename": "AttributeError",
     "evalue": "module 'trompy' has no attribute 'mean_and_sem'",
     "output_type": "error",
     "traceback": [
      "\u001b[0;31m---------------------------------------------------------------------------\u001b[0m",
      "\u001b[0;31mAttributeError\u001b[0m                            Traceback (most recent call last)",
      "Cell \u001b[0;32mIn[26], line 1\u001b[0m\n\u001b[0;32m----> 1\u001b[0m \u001b[43mtp\u001b[49m\u001b[38;5;241;43m.\u001b[39;49m\u001b[43mbarscatter\u001b[49m\u001b[43m(\u001b[49m\u001b[43m[\u001b[49m\u001b[43mdf2\u001b[49m\u001b[43m[\u001b[49m\u001b[38;5;124;43m\"\u001b[39;49m\u001b[38;5;124;43mNR\u001b[39;49m\u001b[38;5;124;43m\"\u001b[39;49m\u001b[43m]\u001b[49m\u001b[43m,\u001b[49m\u001b[43m \u001b[49m\u001b[43mdf2\u001b[49m\u001b[43m[\u001b[49m\u001b[38;5;124;43m\"\u001b[39;49m\u001b[38;5;124;43mPR\u001b[39;49m\u001b[38;5;124;43m\"\u001b[39;49m\u001b[43m]\u001b[49m\u001b[43m]\u001b[49m\u001b[43m)\u001b[49m\n",
      "File \u001b[0;32m~/.local/lib/python3.8/site-packages/trompy/barscatter.py:329\u001b[0m, in \u001b[0;36mbarscatter\u001b[0;34m(data_in, ax, transpose, paired, spaced, xspace, yspace, groupwidth, barwidth, barfacecolor_option, barfacecolor, baredgecolor_option, baredgecolor, errorbars, scatteroffset, scatterfacecolor_option, scatterfacecolor, scatteredgecolor_option, scatteredgecolor, scatterlinecolor, linewidth, scattersize, grouplabel, grouplabeloffset, barlabels, barlabeloffset, itemlabels, show_legend, legendloc, fontsize, bar_kwargs, sc_kwargs, ax_kwargs, **extra_kwargs)\u001b[0m\n\u001b[1;32m    326\u001b[0m bs\u001b[38;5;241m.\u001b[39mprocess_kwargs()\n\u001b[1;32m    328\u001b[0m bs\u001b[38;5;241m.\u001b[39mprep_data(transpose\u001b[38;5;241m=\u001b[39mtranspose)\n\u001b[0;32m--> 329\u001b[0m \u001b[43mbs\u001b[49m\u001b[38;5;241;43m.\u001b[39;49m\u001b[43mcalculate_items\u001b[49m\u001b[43m(\u001b[49m\u001b[43mbarwidth\u001b[49m\u001b[43m,\u001b[49m\u001b[43m \u001b[49m\u001b[43mgroupwidth\u001b[49m\u001b[43m)\u001b[49m\n\u001b[1;32m    330\u001b[0m bs\u001b[38;5;241m.\u001b[39mcalculate_x_vals()\n\u001b[1;32m    332\u001b[0m bs\u001b[38;5;241m.\u001b[39mbarfacecolorArray \u001b[38;5;241m=\u001b[39m bs\u001b[38;5;241m.\u001b[39mset_colors(barfacecolor_option, barfacecolor)\n",
      "File \u001b[0;32m~/.local/lib/python3.8/site-packages/trompy/barscatter.py:101\u001b[0m, in \u001b[0;36mBarScatter.calculate_items\u001b[0;34m(self, barwidth, groupwidth)\u001b[0m\n\u001b[1;32m     98\u001b[0m \u001b[38;5;28mself\u001b[39m\u001b[38;5;241m.\u001b[39mwidth_of_bars \u001b[38;5;241m=\u001b[39m barwidth\n\u001b[1;32m    100\u001b[0m \u001b[38;5;28;01mfor\u001b[39;00m i \u001b[38;5;129;01min\u001b[39;00m \u001b[38;5;28mrange\u001b[39m(np\u001b[38;5;241m.\u001b[39mshape(\u001b[38;5;28mself\u001b[39m\u001b[38;5;241m.\u001b[39mdata)[\u001b[38;5;241m0\u001b[39m]):\n\u001b[0;32m--> 101\u001b[0m     \u001b[38;5;28mself\u001b[39m\u001b[38;5;241m.\u001b[39mbar_means[i], \u001b[38;5;28mself\u001b[39m\u001b[38;5;241m.\u001b[39mbar_error[i] \u001b[38;5;241m=\u001b[39m \u001b[43mtp\u001b[49m\u001b[38;5;241;43m.\u001b[39;49m\u001b[43mmean_and_sem\u001b[49m(\u001b[38;5;28mself\u001b[39m\u001b[38;5;241m.\u001b[39mdata[i])\n",
      "\u001b[0;31mAttributeError\u001b[0m: module 'trompy' has no attribute 'mean_and_sem'"
     ]
    }
   ],
   "source": [
    "tp.barscatter([df2[\"NR\"], df2[\"PR\"]])"
   ]
  },
  {
   "cell_type": "code",
   "execution_count": 27,
   "id": "3a7ca03a",
   "metadata": {},
   "outputs": [
    {
     "data": {
      "text/plain": [
       "['__builtins__',\n",
       " '__cached__',\n",
       " '__doc__',\n",
       " '__file__',\n",
       " '__loader__',\n",
       " '__name__',\n",
       " '__package__',\n",
       " '__path__',\n",
       " '__spec__',\n",
       " 'ax2prop',\n",
       " 'barscatter',\n",
       " 'bonferroni_corrected_ttest',\n",
       " 'burstlengthFig',\n",
       " 'burstprobFig',\n",
       " 'calculate_burst_prob',\n",
       " 'checknsessions',\n",
       " 'discrete2continuous',\n",
       " 'download_data',\n",
       " 'event2sample',\n",
       " 'fig_utils',\n",
       " 'find_overlap',\n",
       " 'findnoise',\n",
       " 'findpercentilevalue',\n",
       " 'fit_weibull',\n",
       " 'flatten_list',\n",
       " 'general_utils',\n",
       " 'get_violinstats',\n",
       " 'getuserhome',\n",
       " 'ibiFig',\n",
       " 'iliFig',\n",
       " 'invisible_axes',\n",
       " 'isnumeric',\n",
       " 'lickCalc',\n",
       " 'lick_figs',\n",
       " 'lick_utils',\n",
       " 'licklengthFig',\n",
       " 'lighten_color',\n",
       " 'logical_subset',\n",
       " 'makeheatmap',\n",
       " 'makerandomevents',\n",
       " 'mastersnipper',\n",
       " 'mean_and_sem',\n",
       " 'med_abs_dev',\n",
       " 'medfilereader',\n",
       " 'medfilereader_licks',\n",
       " 'merge_fed_files',\n",
       " 'merge_files',\n",
       " 'metafilemaker',\n",
       " 'metafilereader',\n",
       " 'nanroc',\n",
       " 'parse_args',\n",
       " 'plot_ROC_and_line',\n",
       " 'processdata',\n",
       " 'random_array',\n",
       " 'remcheck',\n",
       " 'removenoise',\n",
       " 'removeshortbursts',\n",
       " 'resample_snips',\n",
       " 'rocN',\n",
       " 'roc_utils',\n",
       " 'rocshuf',\n",
       " 'run_roc_comparison',\n",
       " 'sessionlicksFig',\n",
       " 'setsameaxislimits',\n",
       " 'shadedError',\n",
       " 'sidakcorr',\n",
       " 'snipper',\n",
       " 'snipper_utils',\n",
       " 'stats_utils',\n",
       " 'time2samples',\n",
       " 'trialsFig',\n",
       " 'trialsMultFig',\n",
       " 'trialsMultShadedFig',\n",
       " 'trialsShadedFig',\n",
       " 'trials_figs',\n",
       " 'trialstiledFig',\n",
       " 'tstamp_to_tdate',\n",
       " 'weib_davis',\n",
       " 'zscore']"
      ]
     },
     "execution_count": 27,
     "metadata": {},
     "output_type": "execute_result"
    }
   ],
   "source": [
    "dir(tp)"
   ]
  },
  {
   "cell_type": "code",
   "execution_count": null,
   "id": "72fc3922",
   "metadata": {},
   "outputs": [],
   "source": []
  }
 ],
 "metadata": {
  "kernelspec": {
   "display_name": "fosquant",
   "language": "python",
   "name": "python3"
  },
  "language_info": {
   "codemirror_mode": {
    "name": "ipython",
    "version": 3
   },
   "file_extension": ".py",
   "mimetype": "text/x-python",
   "name": "python",
   "nbconvert_exporter": "python",
   "pygments_lexer": "ipython3",
   "version": "3.9.12"
  }
 },
 "nbformat": 4,
 "nbformat_minor": 5
}
